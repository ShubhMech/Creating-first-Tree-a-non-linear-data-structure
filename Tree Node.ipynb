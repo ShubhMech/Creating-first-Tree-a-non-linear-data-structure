{
 "cells": [
  {
   "cell_type": "code",
   "execution_count": 12,
   "id": "51a38223-db15-4504-866c-205836d63fb0",
   "metadata": {},
   "outputs": [],
   "source": [
    "class TreeNode:\n",
    "    def __init__(self,data,children=[]):\n",
    "        self.data=data\n",
    "        self.children=[]\n",
    "    def add_children(self,*treenode):\n",
    "        for child in treenode:\n",
    "            self.children.append(child)\n",
    "            "
   ]
  },
  {
   "cell_type": "code",
   "execution_count": 13,
   "id": "019fb601-121a-4ddf-a029-d57103dc6dd5",
   "metadata": {},
   "outputs": [],
   "source": [
    "node=TreeNode(\"Drinks\")"
   ]
  },
  {
   "cell_type": "code",
   "execution_count": 14,
   "id": "4233c593-04e7-4361-82c6-6c0621ca75a4",
   "metadata": {},
   "outputs": [
    {
     "data": {
      "text/plain": [
       "[]"
      ]
     },
     "execution_count": 14,
     "metadata": {},
     "output_type": "execute_result"
    }
   ],
   "source": [
    "node.children"
   ]
  },
  {
   "cell_type": "code",
   "execution_count": 15,
   "id": "2b73ff5b-df87-439f-9a62-03701317d444",
   "metadata": {},
   "outputs": [],
   "source": [
    "node1=TreeNode(\"Cold\")\n",
    "node2=TreeNode(\"Hot\")"
   ]
  },
  {
   "cell_type": "code",
   "execution_count": 16,
   "id": "107c5257-261b-4001-84d4-fdd686dd7028",
   "metadata": {},
   "outputs": [],
   "source": [
    "node.add_children(node1,node2)"
   ]
  },
  {
   "cell_type": "code",
   "execution_count": 18,
   "id": "12d7127b-ea4f-4026-89cb-61a24cf0c3dd",
   "metadata": {},
   "outputs": [
    {
     "name": "stdout",
     "output_type": "stream",
     "text": [
      "<__main__.TreeNode object at 0x0000023776CB2A60> Cold []\n",
      "<__main__.TreeNode object at 0x0000023776CB2B20> Hot []\n"
     ]
    }
   ],
   "source": [
    "for child in node.children:\n",
    "    print(child, child.data, child.children)"
   ]
  },
  {
   "cell_type": "code",
   "execution_count": null,
   "id": "fb53e878-7e50-4fd7-92f3-e2b0eb704f60",
   "metadata": {},
   "outputs": [],
   "source": []
  }
 ],
 "metadata": {
  "kernelspec": {
   "display_name": "Python 3",
   "language": "python",
   "name": "python3"
  },
  "language_info": {
   "codemirror_mode": {
    "name": "ipython",
    "version": 3
   },
   "file_extension": ".py",
   "mimetype": "text/x-python",
   "name": "python",
   "nbconvert_exporter": "python",
   "pygments_lexer": "ipython3",
   "version": "3.8.5"
  }
 },
 "nbformat": 4,
 "nbformat_minor": 5
}
